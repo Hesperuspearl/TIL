{
 "cells": [
  {
   "cell_type": "code",
   "execution_count": null,
   "metadata": {},
   "outputs": [],
   "source": [
    "부분집합의 합"
   ]
  },
  {
   "cell_type": "code",
   "execution_count": null,
   "metadata": {},
   "outputs": [],
   "source": [
    "순열\n",
    "A[1, 2, 3]의 모든 원소를 사용한 순열\n"
   ]
  },
  {
   "cell_type": "code",
   "execution_count": null,
   "metadata": {},
   "outputs": [],
   "source": [
    "def f(i, N):\n",
    "    if i == N:\n",
    "        print(A)\n",
    "    else:\n",
    "        for j in range(i, N):\n",
    "            A[i], A[j] = A[j], A[i]\n",
    "            f(i+1, N)\n",
    "            A[i], A[j] = A[j], A[i]\n",
    "\n",
    "A = [0, 1, 2]\n",
    "f(0, 3)"
   ]
  }
 ],
 "metadata": {
  "language_info": {
   "name": "python"
  },
  "orig_nbformat": 4
 },
 "nbformat": 4,
 "nbformat_minor": 2
}
