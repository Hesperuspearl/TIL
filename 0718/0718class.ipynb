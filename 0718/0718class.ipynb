{
 "cells": [
  {
   "cell_type": "code",
   "execution_count": null,
   "metadata": {},
   "outputs": [],
   "source": []
  },
  {
   "cell_type": "code",
   "execution_count": 1,
   "metadata": {},
   "outputs": [
    {
     "name": "stdout",
     "output_type": "stream",
     "text": [
      "True\n",
      "True\n"
     ]
    }
   ],
   "source": [
    "a = 3.2 - 3.1\n",
    "b = 1.2 - 1.1\n",
    "print(abs(a-b) < 1e-10)\n",
    "\n",
    "import math\n",
    "print(math.isclose(a,b))\n"
   ]
  },
  {
   "cell_type": "code",
   "execution_count": 2,
   "metadata": {},
   "outputs": [
    {
     "name": "stdout",
     "output_type": "stream",
     "text": [
      "<class 'float'>\n",
      "3.14\n"
     ]
    }
   ],
   "source": [
    "number = 314e-2\n",
    "print(type(number))\n",
    "print(number)"
   ]
  },
  {
   "cell_type": "markdown",
   "metadata": {},
   "source": [
    "e E 지수 표현. e2는 10의 제곱 의미."
   ]
  },
  {
   "cell_type": "markdown",
   "metadata": {},
   "source": [
    "Sequence Types\n",
    "특징 5가지\n",
    "1. 순서(Sequence), 2. Indexing 3. SLicing 4. 길이(Length), 5. 반복(Iteration)\n",
    "\n",
    "불변 : str, tuple, range, 가변 : list\n",
    "\n",
    "Escape sequence\n",
    "역슬래시(backslash)뒤에 특정 문자가 와서 특수한 기능을 하는 문자조합\n",
    "파이썬의 일반적인 문법규칙을 잠시 탈출한다는 의미\n",
    "\\n : 줄바꿈\n",
    "\\t : 탭\n",
    "\\\\ : 백슬래시\n",
    "\\' : 작은따옴표\n",
    "\\\" : 큰따옴표"
   ]
  },
  {
   "cell_type": "code",
   "execution_count": 4,
   "metadata": {},
   "outputs": [
    {
     "name": "stdout",
     "output_type": "stream",
     "text": [
      "철수야 '안녕'\n",
      "이 다음은 엔터\n",
      "입니다.\n"
     ]
    }
   ],
   "source": [
    "print('철수야 \\'안녕\\'')\n",
    "\n",
    "print('이 다음은 엔터\\n입니다.')      "
   ]
  },
  {
   "cell_type": "markdown",
   "metadata": {},
   "source": [
    "String Interpolation"
   ]
  },
  {
   "cell_type": "code",
   "execution_count": 10,
   "metadata": {},
   "outputs": [
    {
     "name": "stdout",
     "output_type": "stream",
     "text": [
      "Debugging roaches 13 living room\n",
      "Debugging roaches 13 living room\n",
      "Debugging roaches 13 living room\n",
      "hi\n",
      "    hi    \n",
      "        hi\n",
      "hi\n",
      "hi        \n"
     ]
    }
   ],
   "source": [
    "bugs = 'roaches'\n",
    "counts = 13\n",
    "area = 'living room'\n",
    "print(f'Debugging {bugs} {counts} {area}')\n",
    "print('Debugging {} {} {}'.format(bugs, counts, area))\n",
    "print('Debugging %s %d %s' % (bugs, counts, area))\n",
    "\n",
    "#f -string 응용\n",
    "greeting = 'hi'\n",
    "print(f'{greeting}')\n",
    "print(f'{greeting:^10}')\n",
    "print(f'{greeting:>10}')\n",
    "print(greeting)\n",
    "print(f'{greeting:<10}')"
   ]
  },
  {
   "cell_type": "code",
   "execution_count": 16,
   "metadata": {},
   "outputs": [
    {
     "name": "stdout",
     "output_type": "stream",
     "text": [
      "hlo\n",
      "olleh\n"
     ]
    }
   ],
   "source": [
    "my_str = 'hello'\n",
    "print(my_str[0:5:2])\n",
    "print(my_str[::-1])"
   ]
  },
  {
   "cell_type": "markdown",
   "metadata": {},
   "source": [
    "List\n",
    "변경가능  / str은 변경 불가능\n"
   ]
  },
  {
   "cell_type": "code",
   "execution_count": 17,
   "metadata": {},
   "outputs": [
    {
     "name": "stdout",
     "output_type": "stream",
     "text": [
      "!!!\n",
      "w\n"
     ]
    }
   ],
   "source": [
    "my_list = [1, 2, 3, 'Python', ['Hello', 'world', '!!!']]\n",
    "print(my_list[4][-1])\n",
    "print(my_list[-1][1][0])\n"
   ]
  },
  {
   "cell_type": "markdown",
   "metadata": {},
   "source": [
    "Tuple, 변경불가능! 리스트와 차이점.\n",
    "my_tuple_2 = (1,) #연산으로 인식하는 것을 막기위해"
   ]
  },
  {
   "cell_type": "markdown",
   "metadata": {},
   "source": [
    "range, 변경불가능!"
   ]
  },
  {
   "cell_type": "code",
   "execution_count": 19,
   "metadata": {},
   "outputs": [
    {
     "name": "stdout",
     "output_type": "stream",
     "text": [
      "range(0, 5)\n",
      "[0, 1, 2, 3, 4]\n"
     ]
    }
   ],
   "source": [
    "range_1 = range(5)\n",
    "print(range_1)\n",
    "print(list(range_1))"
   ]
  },
  {
   "cell_type": "markdown",
   "metadata": {},
   "source": [
    "Non-Sequence Types\n",
    "dict : key-value 쌍으로 이루어진 순서와 중복이 없는 변경 가능한 자료형 중괄호\n",
    "set : 순서와 중복이 없는 변경 가능한 자료형, set도 중괄호\n",
    "my_set_1 = set() / my_dict_1 = {}\n"
   ]
  },
  {
   "cell_type": "code",
   "execution_count": 20,
   "metadata": {},
   "outputs": [
    {
     "name": "stdout",
     "output_type": "stream",
     "text": [
      "{1}\n"
     ]
    }
   ],
   "source": [
    "my_set_3 = {1, 1, 1}\n",
    "print(my_set_3)    #중복x"
   ]
  },
  {
   "cell_type": "code",
   "execution_count": 21,
   "metadata": {},
   "outputs": [
    {
     "name": "stdout",
     "output_type": "stream",
     "text": [
      "{1, 2, 3, 6, 9}\n",
      "{1, 2}\n",
      "{3}\n"
     ]
    }
   ],
   "source": [
    "my_set_1 = {1, 2, 3}\n",
    "my_set_2 = {3, 6, 9}\n",
    "print(my_set_1 | my_set_2)\n",
    "print(my_set_1 - my_set_2)\n",
    "print(my_set_1 & my_set_2)"
   ]
  },
  {
   "cell_type": "markdown",
   "metadata": {},
   "source": [
    "other types.\n",
    "- None 타입 : 값없음.\n",
    "- Boolean"
   ]
  },
  {
   "cell_type": "markdown",
   "metadata": {},
   "source": [
    "Collection : 여러 개의 항목 또는 요소를 담는 자료구조\n",
    "str, list, tuple, set, dict\n",
    "\n",
    "컬렉션 정리 표 오타. 변경 가능여부 / 나열, 순서 여부"
   ]
  },
  {
   "cell_type": "code",
   "execution_count": 23,
   "metadata": {},
   "outputs": [
    {
     "name": "stdout",
     "output_type": "stream",
     "text": [
      "[100, 2, 3]\n"
     ]
    }
   ],
   "source": [
    "#불변과 가변\n",
    "my_str = 'hello'\n",
    "my_str[0] = 'z'\n",
    "\n",
    "my_list = [1, 2, 3]\n",
    "my_list[0] = 100\n",
    "print(my_list)\n",
    "# list 객체들의 참조를 모아놓은 컬렉션"
   ]
  },
  {
   "cell_type": "code",
   "execution_count": 26,
   "metadata": {},
   "outputs": [
    {
     "name": "stdout",
     "output_type": "stream",
     "text": [
      "[100, 2, 3]\n",
      "[100, 2, 3]\n",
      "20\n",
      "10\n"
     ]
    }
   ],
   "source": [
    "list_1 = [1, 2, 3]\n",
    "list_2 = list_1\n",
    "\n",
    "list_1[0] = 100\n",
    "print(list_1)\n",
    "print(list_2)\n",
    "# 가변데이터들\n",
    "\n",
    "x = 10\n",
    "y = x\n",
    "x = 20\n",
    "print(x)\n",
    "print(y)\n",
    "#불변"
   ]
  },
  {
   "cell_type": "markdown",
   "metadata": {},
   "source": [
    "Type Conversion\n",
    "\n",
    "암시적 형변환 Implicit Type conversion"
   ]
  },
  {
   "cell_type": "code",
   "execution_count": 29,
   "metadata": {},
   "outputs": [
    {
     "name": "stdout",
     "output_type": "stream",
     "text": [
      "8.0\n",
      "4\n",
      "1\n"
     ]
    },
    {
     "data": {
      "text/plain": [
       "False"
      ]
     },
     "execution_count": 29,
     "metadata": {},
     "output_type": "execute_result"
    }
   ],
   "source": [
    "print(3 + 5.0)\n",
    "print(True + 3)\n",
    "print(True + False)"
   ]
  },
  {
   "cell_type": "markdown",
   "metadata": {},
   "source": [
    "Explicit Type conversion\n",
    "명시적 형변환 : 개발자가 직접 형변환을 하는 것. 암시적 형변환이 아닌 경우를 모두 포함\n",
    "\n",
    "str -> integer : 형식에 맞는 숫자만 가능\n",
    "integer -> str : 모두 가능\n",
    "\n",
    "컬렉션 간 형변환 정리\n",
    "다른것들 range로 변환 x"
   ]
  },
  {
   "cell_type": "markdown",
   "metadata": {},
   "source": [
    "Operator\n",
    "연산자\n",
    "단축평가 *시험"
   ]
  },
  {
   "cell_type": "code",
   "execution_count": 35,
   "metadata": {},
   "outputs": [
    {
     "name": "stdout",
     "output_type": "stream",
     "text": [
      "False\n",
      "True\n",
      "b\n"
     ]
    }
   ],
   "source": [
    "vowels = 'aeiou'\n",
    "print(('a' and 'b') in vowels)\n",
    "print(('b' and 'a') in vowels)\n",
    "\n",
    "print(('a' and 'b'))"
   ]
  },
  {
   "cell_type": "markdown",
   "metadata": {},
   "source": [
    "멤버십 연산자 \n",
    "시퀀스형 연산자\n",
    "+ 결합 연산자\n",
    "* 반복 연산자\n",
    "연산자우선순위 *시험?"
   ]
  }
 ],
 "metadata": {
  "kernelspec": {
   "display_name": "Python 3",
   "language": "python",
   "name": "python3"
  },
  "language_info": {
   "codemirror_mode": {
    "name": "ipython",
    "version": 3
   },
   "file_extension": ".py",
   "mimetype": "text/x-python",
   "name": "python",
   "nbconvert_exporter": "python",
   "pygments_lexer": "ipython3",
   "version": "3.9.13"
  },
  "orig_nbformat": 4
 },
 "nbformat": 4,
 "nbformat_minor": 2
}
