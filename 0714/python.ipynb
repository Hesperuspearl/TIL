{
 "cells": [
  {
   "cell_type": "code",
   "execution_count": 2,
   "metadata": {},
   "outputs": [
    {
     "name": "stdout",
     "output_type": "stream",
     "text": [
      "yeongdong\n"
     ]
    }
   ],
   "source": [
    "print('yeongdong')\n"
   ]
  },
  {
   "cell_type": "code",
   "execution_count": 3,
   "metadata": {},
   "outputs": [
    {
     "name": "stdout",
     "output_type": "stream",
     "text": [
      "yeongdong\n"
     ]
    }
   ],
   "source": [
    "##Dictionary\n",
    "\n",
    "names = {'name' : 'yeongdong', 'height' : '177'}\n",
    "\n",
    "print(names['name'])"
   ]
  },
  {
   "cell_type": "code",
   "execution_count": 4,
   "metadata": {},
   "outputs": [
    {
     "name": "stdout",
     "output_type": "stream",
     "text": [
      "50이하\n"
     ]
    }
   ],
   "source": [
    "##조건문\n",
    "dust  = 50\n",
    "if dust > 50:\n",
    "    print('50초과')\n",
    "else:\n",
    "    print('50이하')\n",
    "\n"
   ]
  },
  {
   "cell_type": "code",
   "execution_count": 5,
   "metadata": {},
   "outputs": [
    {
     "name": "stdout",
     "output_type": "stream",
     "text": [
      "나쁨\n"
     ]
    }
   ],
   "source": [
    "dust = 90\n",
    "if dust > 150:\n",
    "    print('매우나쁨')\n",
    "elif dust > 80:\n",
    "    print('나쁨')\n",
    "else:\n",
    "    print('좋음')\n",
    "    "
   ]
  },
  {
   "cell_type": "code",
   "execution_count": 7,
   "metadata": {},
   "outputs": [
    {
     "name": "stdout",
     "output_type": "stream",
     "text": [
      "yo\n",
      "yo\n",
      "yo\n"
     ]
    }
   ],
   "source": [
    "#반복문\n",
    "\n",
    "n = 0\n",
    "\n",
    "while n < 3:\n",
    "    print('yo')\n",
    "    n += 1\n",
    "    "
   ]
  },
  {
   "cell_type": "code",
   "execution_count": 8,
   "metadata": {},
   "outputs": [
    {
     "name": "stdout",
     "output_type": "stream",
     "text": [
      "불백\n",
      "치밥\n",
      "설렁탕\n"
     ]
    }
   ],
   "source": [
    "#for반복문\n",
    "lunch = ['불백', '치밥', '설렁탕']\n",
    "\n",
    "for i in lunch:\n",
    "    print(i)\n",
    "    "
   ]
  },
  {
   "cell_type": "markdown",
   "metadata": {},
   "source": [
    "while vs for\n",
    "\n",
    "while : 조건이 True인 동안 반복적으로 실행되기 때문에 종료 조건 반드시 필요\n",
    "for : 정해진 범위를 반복하기에 종료조건이 필요 없음"
   ]
  },
  {
   "cell_type": "code",
   "execution_count": null,
   "metadata": {},
   "outputs": [],
   "source": []
  }
 ],
 "metadata": {
  "kernelspec": {
   "display_name": "Python 3",
   "language": "python",
   "name": "python3"
  },
  "language_info": {
   "codemirror_mode": {
    "name": "ipython",
    "version": 3
   },
   "file_extension": ".py",
   "mimetype": "text/x-python",
   "name": "python",
   "nbconvert_exporter": "python",
   "pygments_lexer": "ipython3",
   "version": "3.9.13"
  },
  "orig_nbformat": 4
 },
 "nbformat": 4,
 "nbformat_minor": 2
}
