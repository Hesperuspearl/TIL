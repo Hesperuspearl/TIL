{
 "cells": [
  {
   "cell_type": "markdown",
   "metadata": {},
   "source": [
    "비시퀀스 데이터 구조\n",
    "\n",
    "set 고유한 항목들의 정렬되지 않은 컬렉션\n",
    "set method\n",
    "\n",
    "s.add(x)\n",
    "s.clear()\n",
    "s.remove(x)\n",
    "s.pop\n",
    "s.discard(x)\n",
    "s.update(iterable)\n",
    "\n",
    "set 집합메서드\n",
    "set1.difference(set2)       set1 - set2\n",
    "set1.intersection(set2)    set1 & set2\n",
    "set1.issubset(set2)    set1 <= set2\n",
    "set1.issuperset(set2)    set1 >= set2\n",
    "set1.union(set2)    set1 | set2"
   ]
  },
  {
   "cell_type": "code",
   "execution_count": 4,
   "metadata": {},
   "outputs": [
    {
     "name": "stdout",
     "output_type": "stream",
     "text": [
      "1\n",
      "{2, 3}\n"
     ]
    }
   ],
   "source": [
    "my_set = {1, 2, 3}\n",
    "\n",
    "element = my_set.pop()\n",
    "print(element)\n",
    "print(my_set)           #중요하진 않음.구조. 계속 1만 추출됨? 왜?   Hash Table  / random이 아닌 arbitrary. 해시테이블에 그대로 저장되니까, 똑같이 나옴. 그렇다고 순서 있다고 착각XX\n",
    "#문자열은 계속 다르게 나옴. 정수는 고정. hash table에 저장되는 위치가 문자열은 매번 달라짐. 객체타입에 따라 달라짐\n",
    "# 정수값 자체가 곧 해시 값이 됨."
   ]
  },
  {
   "cell_type": "markdown",
   "metadata": {},
   "source": [
    "dictionary 고유한 항목들의 정렬되지 않은 컬렉션\n",
    "\n",
    "D.clear()\n",
    "D.get(k)\n",
    "D.get(k, v)\n",
    "D.keys()\n",
    "D.values()\n",
    "D.items()\n",
    "D.pop(k, v)\n",
    "D.setdefault(k)\n",
    "D.setdefault(k, v)\n",
    "D.update(other)"
   ]
  },
  {
   "cell_type": "code",
   "execution_count": null,
   "metadata": {},
   "outputs": [],
   "source": [
    "print(person['country']) #KeyError 코드 멈춤\n",
    "print(person.get('age')) #None 코드 멈추지 않음"
   ]
  },
  {
   "cell_type": "markdown",
   "metadata": {},
   "source": [
    "key의 value 값 불러오는것, 3가지\n",
    "1. [ ] \n",
    "2. .get()\n",
    "3. .setdefault()"
   ]
  },
  {
   "cell_type": "code",
   "execution_count": 8,
   "metadata": {},
   "outputs": [
    {
     "name": "stdout",
     "output_type": "stream",
     "text": [
      "{'A': 3, 'B': 3, 'O': 3, 'AB': 3}\n",
      "{'A': 3, 'B': 3, 'O': 3, 'AB': 3}\n",
      "{'A': 3, 'B': 3, 'O': 3, 'AB': 3}\n"
     ]
    }
   ],
   "source": [
    "#혈핵형 인원수 세기\n",
    "#결과 {'A': 3, 'B': 3, 'O': 3, 'AB': 3}\n",
    "blood_types = ['A', 'B', 'A', 'O', 'AB', 'AB', 'O', 'A', 'B', 'O', 'B', 'AB']\n",
    "\n",
    "#[]\n",
    "new_dict = {}\n",
    "\n",
    "for blood_type in blood_types:\n",
    "    if blood_type in new_dict:\n",
    "        new_dict[blood_type] += 1\n",
    "    else:\n",
    "        new_dict[blood_type] = 1\n",
    "print(new_dict)\n",
    "\n",
    "\n",
    "# .get()\n",
    "new_dict = {}\n",
    "\n",
    "for blood_type in blood_types:\n",
    "\n",
    "    new_dict[blood_type] = new_dict.get(blood_type, 0) + 1\n",
    "print(new_dict)\n",
    "\n",
    "# .setdefault()\n",
    "new_dict = {}\n",
    "\n",
    "for blood_type in blood_types:\n",
    "    new_dict.setdefault(blood_type, 0)\n",
    "    new_dict[blood_type] += 1\n",
    "\n",
    "print(new_dict)\n",
    "\n",
    "\n"
   ]
  },
  {
   "cell_type": "markdown",
   "metadata": {},
   "source": [
    "복사\n",
    "assignment\n",
    "shallow copy\n",
    "deep copy"
   ]
  },
  {
   "cell_type": "code",
   "execution_count": null,
   "metadata": {},
   "outputs": [],
   "source": [
    "shallow copy, 교재에는 슬라이싱 방법만.\n",
    "copy라는 내장함수 존재.\n",
    "\n",
    "#슬라이싱\n",
    "b = a[:]\n",
    "b[0] = 100\n",
    "print(a, b)\n",
    "\n",
    "#copy\n",
    "c = a.copy()\n",
    "c[0] = 100\n",
    "print(a, c)"
   ]
  }
 ],
 "metadata": {
  "kernelspec": {
   "display_name": "Python 3",
   "language": "python",
   "name": "python3"
  },
  "language_info": {
   "codemirror_mode": {
    "name": "ipython",
    "version": 3
   },
   "file_extension": ".py",
   "mimetype": "text/x-python",
   "name": "python",
   "nbconvert_exporter": "python",
   "pygments_lexer": "ipython3",
   "version": "3.9.13"
  },
  "orig_nbformat": 4
 },
 "nbformat": 4,
 "nbformat_minor": 2
}
