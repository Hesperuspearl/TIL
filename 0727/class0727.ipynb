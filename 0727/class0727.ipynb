{
 "cells": [
  {
   "cell_type": "code",
   "execution_count": 8,
   "metadata": {},
   "outputs": [
    {
     "name": "stdout",
     "output_type": "stream",
     "text": [
      "안녕, 박교수입니다.\n",
      "안녕, 조영동입니다.\n"
     ]
    }
   ],
   "source": [
    "class Person:\n",
    "    def __init__(self, name, age):\n",
    "        self.name = name\n",
    "        self.age = age\n",
    "\n",
    "    def talk(self):\n",
    "        print(f'안녕, {self.name}입니다.')\n",
    "\n",
    "class Professor(Person):          #Proflessor(a, b, c,...) 다중상속도 가능/ 이경우 겹치는 게 있을때, 왼쪽부터(상속) 순서대로 찾아나감.\n",
    "    def __init__(self, name, age, department):           #그래도 많아지면 복잡해짐. 그래서 super() 함수\n",
    "        # self.name = name\n",
    "        # self.age = age\n",
    "        # Person.__init__(self, name, age)\n",
    "        super().__init__(name, age)\n",
    "        self.department = department\n",
    "\n",
    "\n",
    "class Student(Person):\n",
    "    def __init__(self, name, age, gpa):\n",
    "    #     self.name = name\n",
    "    #     self.nage = age\n",
    "    #     self.gpa = gpa\n",
    "        super().__init__(name, age)\n",
    "        self.gpa = gpa\n",
    "\n",
    "p1 = Professor('박교수', 49, '컴퓨터공학')\n",
    "s1 = Student('조영동', 20, 4.2)\n",
    "\n",
    "p1.talk()\n",
    "s1.talk()\n",
    "\n"
   ]
  },
  {
   "cell_type": "code",
   "execution_count": 12,
   "metadata": {},
   "outputs": [
    {
     "name": "stdout",
     "output_type": "stream",
     "text": [
      "첫째가 응애\n",
      "첫째가 수영\n",
      "아빠가 걷기\n",
      "XX\n",
      "XY\n",
      "[<class '__main__.FirstChild'>, <class '__main__.Mom'>, <class '__main__.Dad'>, <class '__main__.Person'>, <class 'object'>]\n"
     ]
    }
   ],
   "source": [
    "class Person:\n",
    "    def __init__(self, name):\n",
    "        self.name = name\n",
    "    \n",
    "    def greeting(self):\n",
    "        return f'안녕, {self.name}'\n",
    "\n",
    "class Mom(Person):\n",
    "    gene = 'XX'\n",
    "\n",
    "    # def __init__(self, name):\n",
    "    #     super().__init__(name)        생략가능, 하지만 생성자함수 써주는게 정석.\n",
    "\n",
    "    def swim(self):\n",
    "        return '엄마가 수영'\n",
    "    \n",
    "class Dad(Person):\n",
    "    gene = 'XY'\n",
    "\n",
    "    # def __init__(self, name):\n",
    "    #     super().__init__(name) \n",
    "\n",
    "\n",
    "    def walk(self):\n",
    "        return '아빠가 걷기'\n",
    "    \n",
    "class FirstChild(Mom, Dad):\n",
    "    dad_gene = Dad.gene\n",
    "\n",
    "    # def __init__(self, name):\n",
    "    #     super().__init__(name)  \n",
    "\n",
    "    # def __init__(self, name, age):\n",
    "    #     Dad.__init__(self, name, age)      Dad거 불러드릴려면 super 안쓰고 직접 써야함.\n",
    "\n",
    "    def swim(self):\n",
    "        return '첫째가 수영'\n",
    "    def cry(self):\n",
    "        return '첫째가 응애'\n",
    "\n",
    "baby1 = FirstChild('아가')\n",
    "print(baby1.cry())\n",
    "print(baby1.swim())\n",
    "print(baby1.walk())\n",
    "print(baby1.gene)\n",
    "print(baby1.dad_gene)\n",
    "\n",
    "print(FirstChild.mro())"
   ]
  },
  {
   "cell_type": "code",
   "execution_count": null,
   "metadata": {},
   "outputs": [],
   "source": []
  },
  {
   "cell_type": "markdown",
   "metadata": {},
   "source": [
    "# OOP의 핵심개념\n",
    "\n",
    "- 추상화(Abstraction)\n",
    "- 상속(Inheritance)\n",
    "- 다형성(Polymorphism)\n",
    "- 캡슐화(Encapsulation)\n",
    "\n",
    "## 추상화\n",
    "세부적인 내용은 감추고 필요한 부분만 표현하는 것을 말한다.\n",
    "\n",
    "## 상속\n",
    "코드의 재사용성을 위해 사용한다.\n",
    "부모클래스에서 정의해 놓은 기능을 자식클래스에서 다시 만들지 않고 사용할 수 있다."
   ]
  },
  {
   "cell_type": "code",
   "execution_count": 23,
   "metadata": {},
   "outputs": [
    {
     "name": "stdout",
     "output_type": "stream",
     "text": [
      "dad init\n",
      "mom init\n",
      "XX\n",
      "(<class '__main__.Child'>, <class '__main__.Mom'>, <class '__main__.Dad'>, <class '__main__.Person'>, <class 'object'>)\n"
     ]
    }
   ],
   "source": [
    "class Person:\n",
    "    # gene = 'XY'\n",
    "\n",
    "    def __init__(self, name):\n",
    "        self.name = name\n",
    "\n",
    "    def greeting(self):\n",
    "        print('hello')\n",
    "\n",
    "class Student(Person):\n",
    "    def __init__(self, name):\n",
    "        super().__init__(name)\n",
    "        # Person.__init(self, name)\n",
    "\n",
    "s1 = Student('minseok')\n",
    "# print(s1.gene)\n",
    "\n",
    "class Mom(Person):\n",
    "    gene = 'XX'\n",
    "\n",
    "    def __init__(self, name, age):\n",
    "        super().__init__(name)\n",
    "        self.age = age\n",
    "        print('mom init')\n",
    "\n",
    "class Dad(Person):\n",
    "    gene = 'XY'\n",
    "\n",
    "    def __init__(self, name):\n",
    "        super().__init__(name)\n",
    "        print('dad init')\n",
    "\n",
    "class Child(Mom, Dad):\n",
    "    def __init__(self, name, age):\n",
    "        super().__init__(name, age)\n",
    "        # Mom.__init__(self, name, age)  아주 특별한 경우가 아니면 부모 클래스 이름으로 직접 생성자 호출 X\n",
    "        # Dad.__init__(self, name)\n",
    "c1 = Child('minseok', 12)\n",
    "print(c1.gene)\n",
    "print(Child.__mro__)"
   ]
  },
  {
   "cell_type": "markdown",
   "metadata": {},
   "source": [
    "# 다형성\n",
    "\n",
    "여러 모양을 뜻한다. 동일한 메서드가 클래스에 따라 다르게 행동할 수 있다.\n",
    "서로 다른 클래스에 속해있는 객체들이 동일한 메시지에 대해 각기 다른방식으로 응답(동작)\n",
    "\n",
    "메서드 오버라이딩\n",
    "- 상속받은 메서드를 그대로 사용하는게 아니라 자신에 맞게 다시 재정의"
   ]
  },
  {
   "cell_type": "code",
   "execution_count": 25,
   "metadata": {},
   "outputs": [
    {
     "name": "stdout",
     "output_type": "stream",
     "text": [
      "안녕하세요 저는 minseok입니다.\n",
      "충성! 저는 21사단 소속의 minseok입니다.\n"
     ]
    }
   ],
   "source": [
    "class Person:\n",
    "    def __init__(self, name):\n",
    "        self.name = name\n",
    "    \n",
    "    def talk(self):\n",
    "        print(f'안녕하세요 저는 {self.name}입니다.')\n",
    "\n",
    "class Soldier(Person):\n",
    "    def __init__(self, name, army):\n",
    "        super().__init__(name)\n",
    "        self.army = army\n",
    "\n",
    "    def talk(self):\n",
    "        print(f'충성! 저는 {self.army} 소속의 {self.name}입니다.')\n",
    "\n",
    "p1 = Person('minseok')\n",
    "s1 = Soldier('minseok', '21사단')\n",
    "\n",
    "# talk()라는 동일한 메서드를 실행 했으나 결과가 다르게 나온다.\n",
    "p1.talk()\n",
    "s1.talk()"
   ]
  },
  {
   "cell_type": "markdown",
   "metadata": {},
   "source": [
    "## 캡슐화\n",
    "객체의 일부 구현 내용에 대해 외부로부터의 직접적인 접근을 차단한다.\n"
   ]
  },
  {
   "cell_type": "code",
   "execution_count": 29,
   "metadata": {},
   "outputs": [
    {
     "name": "stdout",
     "output_type": "stream",
     "text": [
      "15\n"
     ]
    }
   ],
   "source": [
    "class Person:\n",
    "\n",
    "    def __init__(self, name, age):\n",
    "        self.name = name\n",
    "        self.__age = age\n",
    "\n",
    "    def get_age(self):\n",
    "        return self.__age\n",
    "    \n",
    "    def set_age(self, age):\n",
    "        if type(age) == str:\n",
    "            print('나이가 잘못되었다')\n",
    "            return\n",
    "        self.__age = age\n",
    "\n",
    "p1 = Person('minseok', 15)\n",
    "\n",
    "# print(p1.__age)\n",
    "print(p1.get_age()) #메소드를 통해서만 접근하도록 설계\n",
    "# 메소드를 통해서 변경하도록 만들어 줄수도 있습니다."
   ]
  }
 ],
 "metadata": {
  "kernelspec": {
   "display_name": "Python 3",
   "language": "python",
   "name": "python3"
  },
  "language_info": {
   "codemirror_mode": {
    "name": "ipython",
    "version": 3
   },
   "file_extension": ".py",
   "mimetype": "text/x-python",
   "name": "python",
   "nbconvert_exporter": "python",
   "pygments_lexer": "ipython3",
   "version": "3.9.13"
  },
  "orig_nbformat": 4
 },
 "nbformat": 4,
 "nbformat_minor": 2
}
