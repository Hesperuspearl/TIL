{
 "cells": [
  {
   "cell_type": "markdown",
   "metadata": {},
   "source": [
    "import keyword\n",
    "\n",
    "print(keyword.kwlist)\n",
    "print = \"안녕\"\n",
    "print(5)\n",
    "출력 못함. 함수를 변수로 만들어 버렸기 때문. 함수는 변수이름으로 x\n",
    "\n",
    "Alt + Shift + F 정렬\n"
   ]
  },
  {
   "cell_type": "code",
   "execution_count": null,
   "metadata": {},
   "outputs": [],
   "source": [
    "L = input().split()\n"
   ]
  }
 ],
 "metadata": {
  "language_info": {
   "name": "python"
  },
  "orig_nbformat": 4
 },
 "nbformat": 4,
 "nbformat_minor": 2
}
