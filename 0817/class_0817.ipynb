{
 "cells": [
  {
   "cell_type": "markdown",
   "metadata": {},
   "source": [
    "Queue\n",
    "\n"
   ]
  },
  {
   "cell_type": "code",
   "execution_count": 13,
   "metadata": {},
   "outputs": [
    {
     "name": "stdout",
     "output_type": "stream",
     "text": [
      "Q is Full\n",
      "1\n",
      "2\n",
      "3\n",
      "Q is empty\n",
      "None\n"
     ]
    }
   ],
   "source": [
    "\n",
    "def enQ(data):\n",
    "    global rear\n",
    "    if rear == Qsize - 1 :  # 가득차면\n",
    "        print('Q is Full')\n",
    "\n",
    "\n",
    "    else:\n",
    "        rear += 1\n",
    "        Q[rear] = data\n",
    "\n",
    "def deQ():\n",
    "    global front\n",
    "    if  front == rear:  # 비어있으면...\n",
    "        print('Q is empty')\n",
    "\n",
    "    else:\n",
    "        front += 1\n",
    "        return Q[front]\n",
    "\n",
    "\n",
    "Qsize = 3\n",
    "Q = [0] * Qsize\n",
    "rear = -1 \n",
    "front = -1\n",
    "\n",
    "\n",
    "enQ(1)\n",
    "enQ(2)\n",
    "enQ(3)\n",
    "enQ(4)\n",
    "# rear += 1       # enqueue(3)\n",
    "# Q[rear] = 3\n",
    "\n",
    "print(deQ())\n",
    "print(deQ())\n",
    "print(deQ())\n",
    "print(deQ())\n",
    "\n",
    "# while front != rear:\n",
    "#     front += 1\n",
    "#     return Q[front]\n"
   ]
  },
  {
   "cell_type": "code",
   "execution_count": 9,
   "metadata": {},
   "outputs": [
    {
     "name": "stdout",
     "output_type": "stream",
     "text": [
      "1\n",
      "2\n",
      "3\n"
     ]
    }
   ],
   "source": [
    "Q = []\n",
    "Q.append(1)\n",
    "Q.append(2)\n",
    "Q.append(3)\n",
    "print(Q.pop(0))\n",
    "print(Q.pop(0))\n",
    "print(Q.pop(0))"
   ]
  },
  {
   "cell_type": "code",
   "execution_count": null,
   "metadata": {},
   "outputs": [],
   "source": [
    "# 원형 큐\n",
    "\n",
    "def enq(data):\n",
    "    global rear\n",
    "    global front\n",
    "    if (rear+1)%cQsize == front:\n",
    "        front = (front+1)%cQsize\n",
    "    else:\n",
    "        rear = (rear+1)%cQsize\n",
    "        cQsize[rear] = data\n",
    "\n",
    "\n",
    "\n",
    "def deq():\n",
    "    global front\n",
    "    front = (front+1)%cQsize\n",
    "    return cQ[front]\n",
    "\n",
    "\n",
    "cQsize = 4\n",
    "cQ = [0] * cQsize\n",
    "front = 0\n",
    "rear = 0\n",
    "\n",
    "enq(1)\n",
    "enq(2)\n",
    "enq(3)\n",
    "enq(4)\n",
    "enq(5)\n",
    "print(deq())\n",
    "print(deq())\n"
   ]
  },
  {
   "cell_type": "code",
   "execution_count": null,
   "metadata": {},
   "outputs": [],
   "source": [
    "from collections import deque\n",
    "\n",
    "q = deque()\n",
    "q.qppend(1)\n",
    "q.append(2)\n",
    "q.append(3)\n",
    "print(q.popleft())\n",
    "print(q.popleft())\n",
    "print(q.popleft())\n",
    "\n"
   ]
  }
 ],
 "metadata": {
  "kernelspec": {
   "display_name": "Python 3",
   "language": "python",
   "name": "python3"
  },
  "language_info": {
   "codemirror_mode": {
    "name": "ipython",
    "version": 3
   },
   "file_extension": ".py",
   "mimetype": "text/x-python",
   "name": "python",
   "nbconvert_exporter": "python",
   "pygments_lexer": "ipython3",
   "version": "3.9.13"
  },
  "orig_nbformat": 4
 },
 "nbformat": 4,
 "nbformat_minor": 2
}
