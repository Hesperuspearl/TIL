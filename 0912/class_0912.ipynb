{
 "cells": [
  {
   "cell_type": "markdown",
   "metadata": {},
   "source": [
    "가상환경 만들기\n",
    "python -m venv venv\n",
    "\n",
    "가상환경 a, b\n",
    "이동하는 것 아님. on/off active on 개념  source venv/Scripts/activate\n",
    "deactivate\n",
    "pip freeze \n",
    "pip freeze > requirements.txt\n",
    "\n",
    "pip requirements 목록들 이제 B가 받는데 이걸 일일이 다 확인, 설치? no\n",
    "\n",
    "\n",
    "\n",
    "pip install -r requirements.txt\n"
   ]
  },
  {
   "cell_type": "markdown",
   "metadata": {},
   "source": [
    "MVC 디자인 패턴\n",
    "Model, View, Controller\n",
    "V, C 일반적인 호칭 바꿔서 부름 장고는.\n",
    "\n",
    "MTV 디자인 패턴\n",
    "View -> Template\n",
    "Controller -> View"
   ]
  }
 ],
 "metadata": {
  "language_info": {
   "name": "python"
  },
  "orig_nbformat": 4
 },
 "nbformat": 4,
 "nbformat_minor": 2
}
