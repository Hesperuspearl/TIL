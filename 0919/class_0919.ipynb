{
 "cells": [
  {
   "cell_type": "markdown",
   "metadata": {},
   "source": [
    "백트래킹"
   ]
  },
  {
   "cell_type": "code",
   "execution_count": 8,
   "metadata": {},
   "outputs": [
    {
     "name": "stdout",
     "output_type": "stream",
     "text": [
      "1 2 3\n",
      "1 3 2\n",
      "2 1 3\n",
      "2 3 1\n",
      "3 1 2\n",
      "3 2 1\n"
     ]
    }
   ],
   "source": [
    "# {1, 2, 3,} 집합에서 3개의 숫자를 선택하는 기본적인 예제\n",
    "# 이미 사용한 수자는 사용하지 않도록\n",
    "\n",
    "arr = [i for i in range(1, 4)]\n",
    "path = [0] * 3\n",
    "\n",
    "def backtracking(cnt):\n",
    "    # 기저 조건\n",
    "    # 숫자 3개를 골랐을 때 종료\n",
    "    if cnt == 3:\n",
    "        print(*path)\n",
    "        return\n",
    "    \n",
    "    for num in arr:    \n",
    "    # 가지치기 - 중복된 숫자 제거\n",
    "        if num in path:\n",
    "            continue\n",
    "        # 들어가기 전 로직\n",
    "        path[cnt] = num\n",
    "        # 다음 재귀 함수 호출\n",
    "        backtracking(cnt + 1)\n",
    "        # 돌아와서 할 로직\n",
    "        path[cnt] = 0 # 초기화 해줘야해\n",
    "backtracking(0)\n"
   ]
  },
  {
   "cell_type": "code",
   "execution_count": null,
   "metadata": {},
   "outputs": [],
   "source": [
    "def func():             # 기본구조\n",
    "    # 재귀를 끝내는 기저 조건\n",
    "\n",
    "    # 반복문\n",
    "        # 가지치기\n",
    "\n",
    "        # 재귀 들어가기 전\n",
    "        # 재귀 함수 호출\n",
    "        # 돌아와서"
   ]
  },
  {
   "cell_type": "markdown",
   "metadata": {},
   "source": [
    "트리\n",
    "- 사이클이 없는 연결 그래프\n",
    "  사이클\n",
    "  연결 그래프 : 모든 꼭지점이 서로 갈 수 있다.\n",
    "\n",
    "- 이진 트리\n",
    "  자녀 노드가 둘 이하인 트리\n",
    "  1. 순회 방법\n",
    "  2. 트리 저장 방법"
   ]
  },
  {
   "cell_type": "code",
   "execution_count": null,
   "metadata": {},
   "outputs": [],
   "source": []
  }
 ],
 "metadata": {
  "kernelspec": {
   "display_name": "Python 3",
   "language": "python",
   "name": "python3"
  },
  "language_info": {
   "codemirror_mode": {
    "name": "ipython",
    "version": 3
   },
   "file_extension": ".py",
   "mimetype": "text/x-python",
   "name": "python",
   "nbconvert_exporter": "python",
   "pygments_lexer": "ipython3",
   "version": "3.9.13"
  },
  "orig_nbformat": 4
 },
 "nbformat": 4,
 "nbformat_minor": 2
}
