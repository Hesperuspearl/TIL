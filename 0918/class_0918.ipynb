{
 "cells": [
  {
   "cell_type": "markdown",
   "metadata": {},
   "source": [
    "알고리즘 설계 기법의 종류\n",
    "\n",
    "1. 전체를 다 보자(Brute Force - 완전 탐색)\n",
    "    - 배열 : 반복문을 다 돌리기\n",
    "    - 그래프 : DFS, BFS\n",
    "2. 상황마다 좋은 것을 고르자(Greedy - 탐욕)\n",
    "    - 규칙을 찾는 것\n",
    "    - 주의사항 : 항상 좋은 것을 뽑아도, 최종 결과가 제일 좋다 = 보장되지 않는다.\n",
    "\n",
    "3. 하나의 큰 문제를 작은 문제로 나누어 부분적으로 해결하자\n",
    "   (Dynamic Programming)\n",
    "   - Memoization 기법을 활용\n",
    "   - 점화식(bottom-up), 재귀(top-down)\n",
    "\n",
    "4. 큰 문제를 작은 문제로 쪼개서 해결하자\n",
    "(Divide and Conquer - 분할 정복)\n",
    "5. 전체 중, 가능성 없는 것을 빼고 보자\n",
    "(Backtracking - 백트래킹)\n",
    " - 가지치기"
   ]
  },
  {
   "cell_type": "markdown",
   "metadata": {},
   "source": [
    "병합 정렬\n",
    "- 직접 구현할 일은 적다\n",
    "  -> 멀티 쓰레드\n",
    "- 과거에 면접 단골 질문 + 분할 정복 학습에 좋다\n",
    "  -> 코드를 보기 전에 반드시 손으로 직접 해보기\n",
    "\n",
    "퀵 정렬\n",
    "- 직접 구현할 일은 적다\n",
    "  -> 평균적으로 굉장히 좋음 O(NlogN)\n",
    "  -> 특히, 큰 데이터를 다룰 때 좋다.\n",
    "  -> 단점 : 역순 정렬 등 최악의 경우 O(N^2)  --- 이건 정말 특수한 경우\n",
    "- 과거에 면접 단골 질문 + 분할 정복 학습에 좋다\n",
    "  -> 코드를 보기 전에 반드시 손으로 직접 해보기\n",
    "\n",
    "\n",
    "이진 검색\n",
    "- 코딩 테스트의 메인 알고리즘 중 하나\n",
    "- 목적 : \"원하는 값을 빨리 찾는 것\"\n",
    "- 시간 : O(logN)\n",
    "- Parametric Search\n",
    "  - lower bound\n",
    "  - upper bound\n",
    "    - 여러 개의 데이터 중 2가 처음 나온 시점\n",
    "    - 2~9 사이의 데이터는 몇개인가?\n"
   ]
  }
 ],
 "metadata": {
  "language_info": {
   "name": "python"
  },
  "orig_nbformat": 4
 },
 "nbformat": 4,
 "nbformat_minor": 2
}
