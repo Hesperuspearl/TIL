{
 "cells": [
  {
   "cell_type": "code",
   "execution_count": null,
   "metadata": {},
   "outputs": [],
   "source": [
    "# 피보나치 수 DP 적용 알고리즘\n",
    "def fibo2(n):\n",
    "    f = [0] * (n+1)\n",
    "    f[0] = 0\n",
    "    f[1] = 1\n",
    "    for i in range(2, n+1):\n",
    "        f[i] = f[i-1] + f[i-2]\n",
    "\n",
    "    return f[n]"
   ]
  },
  {
   "cell_type": "code",
   "execution_count": 10,
   "metadata": {},
   "outputs": [
    {
     "name": "stdout",
     "output_type": "stream",
     "text": [
      "832040 2692537\n"
     ]
    }
   ],
   "source": [
    "cnt = 0\n",
    "def fibo(n):\n",
    "    global cnt\n",
    "    cnt += 1\n",
    "    if n < 2:\n",
    "        return n\n",
    "    else:\n",
    "        return fibo(n-1) + fibo(n-2)\n",
    " \n",
    "print(fibo(30), cnt)\n",
    "# 아래와 비교"
   ]
  },
  {
   "cell_type": "code",
   "execution_count": 19,
   "metadata": {},
   "outputs": [
    {
     "name": "stdout",
     "output_type": "stream",
     "text": [
      "832040 59\n"
     ]
    }
   ],
   "source": [
    "# memoization 이용\n",
    "def fibo(n):\n",
    "    global cnt\n",
    "    global memo\n",
    "    cnt += 1\n",
    "    if n < 2:\n",
    "        return memo[n]\n",
    "    else:\n",
    "        if memo[n] == 0:\n",
    "            memo[n] = fibo(n-1) + fibo(n-2)\n",
    "    \n",
    "        return memo[n]\n",
    "    \n",
    "N = 30\n",
    "memo = [0]*(N+1)\n",
    "memo[0] = 0\n",
    "memo[1] = 1\n",
    "cnt = 0\n",
    "print(fibo(N), cnt)"
   ]
  },
  {
   "cell_type": "code",
   "execution_count": 18,
   "metadata": {},
   "outputs": [
    {
     "name": "stdout",
     "output_type": "stream",
     "text": [
      "354224848179261915075\n"
     ]
    }
   ],
   "source": [
    "def fibo(n):\n",
    "    dp = [0] * (n+1)\n",
    "    dp[0] = 0\n",
    "    dp[1] = 1\n",
    "    for i in range(2, n+1):\n",
    "        dp[i] = dp[i-1] + dp[i-2]\n",
    "    return dp[n]\n",
    "\n",
    "print(fibo(100))"
   ]
  },
  {
   "cell_type": "code",
   "execution_count": 20,
   "metadata": {},
   "outputs": [],
   "source": [
    "# DFS Depth First Search\n",
    "# BFS \n",
    "\n",
    "# 연습문제 3\n",
    "# V E\n",
    "# v1 w1 v2 w2 ...\n",
    "# 7 8\n",
    "# 1, 2, 1, 3, 2, 4, 2, 5, 4, 6, 5, 6, 6, 7, 3, 7\n",
    "\n",
    "def dfs(n, V, adj_m):\n",
    "    stack = [] # stack 생성\n",
    "    visited = [0] * (V+1) # visited 생성\n",
    "    visited[n] = 1 # 시작점 방문 표시\n",
    "    print(n) # do[n]\n",
    "    while True:\n",
    "        for w in range(1, V): # 현재 정점 n에 인접하고 미방문 w 찾기\n",
    "            if adj_m[n][w] == 1 and visited[w] == 0:\n",
    "                stack.append(n)    # push(v), v = w\n",
    "                n = w    # do(w)\n",
    "                print(n)\n",
    "                visited[n] = 1    # w 방문 표시 visited.\n",
    "                break    # for w, n에 인접인 w c 찾은 경우\n",
    "        else:\n",
    "            if stack:    # 스택에 지나온 정점이 남아있으면\n",
    "                n = stack.pop()    # pop해서 다시 다른 w를 찾을 n 준비\n",
    "            else:    # 스택이 비어있으면\n",
    "                break     # while True 탐색 끝\n",
    "\n",
    "\n",
    "\n",
    "\n",
    "\n",
    "\n",
    "V, E = map(int, input().split()) # 1번부터 V번 정점, E개의 간선\n",
    "arr = list(map(int, input().split()))\n",
    "adj_m = [[0]*(V+1) for _ in range(V+1)]\n",
    "for i in range(E):\n",
    "    v1, v2 = arr[i*2], arr[i*2+1]\n",
    "    adj_m[v1][v2] = 1\n",
    "    adj_m[v2][v1] = 1\n",
    "\n",
    "dfs(1, V)"
   ]
  }
 ],
 "metadata": {
  "kernelspec": {
   "display_name": "Python 3",
   "language": "python",
   "name": "python3"
  },
  "language_info": {
   "codemirror_mode": {
    "name": "ipython",
    "version": 3
   },
   "file_extension": ".py",
   "mimetype": "text/x-python",
   "name": "python",
   "nbconvert_exporter": "python",
   "pygments_lexer": "ipython3",
   "version": "3.9.13"
  },
  "orig_nbformat": 4
 },
 "nbformat": 4,
 "nbformat_minor": 2
}
