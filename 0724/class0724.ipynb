{
 "cells": [
  {
   "cell_type": "markdown",
   "metadata": {},
   "source": [
    "# 문자열 메서드\n",
    "\n",
    "\n",
    "문자열 조회/탐색 및 검증 메서드\n",
    "\n",
    "\n",
    ".replace(old, new[,count])\n",
    "대괄호, *BNF표기법 Backus-Naur Form\n",
    "EBNF Extended Backus-Naur Form"
   ]
  },
  {
   "cell_type": "code",
   "execution_count": 22,
   "metadata": {},
   "outputs": [
    {
     "name": "stdout",
     "output_type": "stream",
     "text": [
      "    hello, world!    \n"
     ]
    }
   ],
   "source": [
    "# .replace( , )\n",
    "# .strip([chars])\n",
    "text = '    hello, world!    '\n",
    "n_text = text.strip('he')\n",
    "print(n_text)"
   ]
  },
  {
   "cell_type": "code",
   "execution_count": 23,
   "metadata": {},
   "outputs": [
    {
     "name": "stdout",
     "output_type": "stream",
     "text": [
      "I-Love-You\n"
     ]
    }
   ],
   "source": [
    "words = ['I', 'Love', 'You']\n",
    "letter = '-'.join(words)\n",
    "print(letter)"
   ]
  },
  {
   "cell_type": "markdown",
   "metadata": {},
   "source": [
    "# 리스트 메서드\n"
   ]
  },
  {
   "cell_type": "code",
   "execution_count": 32,
   "metadata": {},
   "outputs": [
    {
     "name": "stdout",
     "output_type": "stream",
     "text": [
      "[1, 2, 3, 4, 5, 6]\n"
     ]
    }
   ],
   "source": [
    "my_list = [1, 2, 3]\n",
    "my_list2 = [4, 5, 6]\n",
    "\n",
    "# my_list.append(my_list2)\n",
    "# print(my_list)\n",
    "my_list.extend(my_list2)\n",
    "print(my_list)"
   ]
  },
  {
   "cell_type": "code",
   "execution_count": 38,
   "metadata": {},
   "outputs": [
    {
     "name": "stdout",
     "output_type": "stream",
     "text": [
      "[3, 2, 1]\n"
     ]
    }
   ],
   "source": [
    "#  .insert(i, x)\n",
    "#  .pop(i)\n",
    "# .clear()\n",
    "my_list = [3, 2, 1]\n",
    "# my_list.sort()\n",
    "# print(my_list)\n",
    "\n",
    "my_list.sort(reverse=True)\n",
    "print(my_list)"
   ]
  },
  {
   "cell_type": "code",
   "execution_count": 42,
   "metadata": {},
   "outputs": [
    {
     "name": "stdout",
     "output_type": "stream",
     "text": [
      "None\n",
      "[1, 2, 3]\n",
      "[1, 2, 3]\n"
     ]
    }
   ],
   "source": [
    "numbers = [1, 2, 3]\n",
    "\n",
    "# sort 메서드\n",
    "print(numbers.sort())\n",
    "\n",
    "\n",
    "\n",
    "# sorted 함수\n",
    "print(sorted(numbers))\n",
    "print(numbers)"
   ]
  },
  {
   "cell_type": "code",
   "execution_count": null,
   "metadata": {},
   "outputs": [],
   "source": [
    "numbers = [1, 2, 3]\n",
    "\n",
    "# 1. 할당\n",
    "list1 = numbers\n",
    "\n",
    "# 2. 슬라이싱\n",
    "list2 = numbers[:]\n",
    "\n",
    "numbers[0] = 100\n",
    "\n",
    "# print(list1) #100, 2 , 3\n",
    "# print(list2) #1, 2 , 3\n",
    "#슬라이싱은 복사본 생성. 겉보기엔 같지만 주소 다름. number[0] = 100하면 numbers 첫번째가 100을 바라봄."
   ]
  },
  {
   "cell_type": "markdown",
   "metadata": {},
   "source": [
    "중요!\n",
    "split, join \n",
    "append, extendpop \n",
    "reverse, sort "
   ]
  },
  {
   "cell_type": "code",
   "execution_count": 50,
   "metadata": {},
   "outputs": [
    {
     "name": "stdout",
     "output_type": "stream",
     "text": [
      "[1, 2, 3, 4, 5, 6]\n",
      "(3, 4, 5, 6, 2, 1)\n",
      "('c', 3)\n",
      "('b', 10)\n",
      "('a', 5)\n",
      "[('c', 3), ('a', 5), ('b', 10)]\n"
     ]
    }
   ],
   "source": [
    "# 자료구조 정렬 1. tup\n",
    "tup = (3, 4, 5, 6, 2, 1)\n",
    "\n",
    "#튜플은 변경 불가능 어떻게 정렬할까?\n",
    "print(sorted(tup))\n",
    "print(tup)   #sorted는 원본은 안바뀜\n",
    "\n",
    "#list로 바꿔서 정렬.\n",
    "\n",
    "# 2. dic\n",
    "dic = {'c' : 3, 'b' : 10, 'a' : 5}\n",
    "\n",
    "# print(sorted(dic))  #키만 정렬됨. 그럼 값을 정렬하고 싶으면?\n",
    "\n",
    "def sort_key(item):\n",
    "    print(item)\n",
    "    return item[1]\n",
    "\n",
    "print(sorted(dic.items(), key = sort_key))\n",
    "\n",
    "# print(sorted(dic.items(), key=lambda item: item[1])) #key 인자는 정렬방법을 서술할 함수\n",
    "# 'c' : 3, 'a' : 5, 'b' : 10\n",
    "\n"
   ]
  },
  {
   "cell_type": "code",
   "execution_count": 51,
   "metadata": {},
   "outputs": [
    {
     "name": "stdout",
     "output_type": "stream",
     "text": [
      "[10, 9, 8, 7]\n"
     ]
    }
   ],
   "source": [
    "#시험 서술형\n",
    "list = [1, 2, 3, 4, 5, 6, 7, 8, 9, 10]\n",
    "\n",
    "list[-1]\n",
    "\n",
    "list[-5:-1]\n",
    "\n",
    "print(list[-1:-5:-1])"
   ]
  }
 ],
 "metadata": {
  "kernelspec": {
   "display_name": "Python 3",
   "language": "python",
   "name": "python3"
  },
  "language_info": {
   "codemirror_mode": {
    "name": "ipython",
    "version": 3
   },
   "file_extension": ".py",
   "mimetype": "text/x-python",
   "name": "python",
   "nbconvert_exporter": "python",
   "pygments_lexer": "ipython3",
   "version": "3.9.13"
  },
  "orig_nbformat": 4
 },
 "nbformat": 4,
 "nbformat_minor": 2
}
