{
 "cells": [
  {
   "cell_type": "code",
   "execution_count": null,
   "metadata": {},
   "outputs": [
    {
     "ename": "NameError",
     "evalue": "name 'n' is not defined",
     "output_type": "error",
     "traceback": [
      "\u001b[1;31m---------------------------------------------------------------------------\u001b[0m",
      "\u001b[1;31mNameError\u001b[0m                                 Traceback (most recent call last)",
      "Cell \u001b[1;32mIn[2], line 4\u001b[0m\n\u001b[0;32m      1\u001b[0m \u001b[39m#2차원 배열\u001b[39;00m\n\u001b[0;32m      2\u001b[0m \n\u001b[0;32m      3\u001b[0m \u001b[39m#행 우선 순회\u001b[39;00m\n\u001b[1;32m----> 4\u001b[0m \u001b[39mfor\u001b[39;00m i \u001b[39min\u001b[39;00m \u001b[39mrange\u001b[39m(n):\n\u001b[0;32m      5\u001b[0m     \u001b[39mfor\u001b[39;00m j \u001b[39min\u001b[39;00m \u001b[39mrange\u001b[39m(m):\n\u001b[0;32m      6\u001b[0m         f(Array[i][j])\n",
      "\u001b[1;31mNameError\u001b[0m: name 'n' is not defined"
     ]
    }
   ],
   "source": [
    "#2차원 배열\n",
    "\n",
    "#행 우선 순회\n",
    "for i in range(n):\n",
    "    for j in range(m):\n",
    "        f(Array[i][j])\n",
    "\n",
    "#열 우선 순회\n",
    "for j in range(m):\n",
    "    for i in range(n):\n",
    "        f(Array[i][j])\n",
    "\n",
    "#지그재그 순회\n",
    "for i in range(n):\n",
    "    for j in range(m):\n",
    "        f(Array[i][j + (m-1-2*j) * (i%2)])"
   ]
  },
  {
   "cell_type": "code",
   "execution_count": null,
   "metadata": {},
   "outputs": [],
   "source": [
    "N = 2\n",
    "M = 4\n",
    "arr = [[0,1,2,3],[4,5,6,7]]\n",
    "for i in range(N):\n",
    "    for j in range(M):\n",
    "        print(arr[i][j])"
   ]
  },
  {
   "cell_type": "code",
   "execution_count": 3,
   "metadata": {},
   "outputs": [
    {
     "ename": "KeyboardInterrupt",
     "evalue": "Interrupted by user",
     "output_type": "error",
     "traceback": [
      "\u001b[1;31m---------------------------------------------------------------------------\u001b[0m",
      "\u001b[1;31mKeyboardInterrupt\u001b[0m                         Traceback (most recent call last)",
      "Cell \u001b[1;32mIn[3], line 6\u001b[0m\n\u001b[0;32m      3\u001b[0m T \u001b[39m=\u001b[39m \u001b[39mint\u001b[39m(\u001b[39minput\u001b[39m())\n\u001b[0;32m      5\u001b[0m \u001b[39mfor\u001b[39;00m tc \u001b[39min\u001b[39;00m \u001b[39mrange\u001b[39m(\u001b[39m1\u001b[39m, T\u001b[39m+\u001b[39m\u001b[39m1\u001b[39m):\n\u001b[1;32m----> 6\u001b[0m     N \u001b[39m=\u001b[39m \u001b[39mint\u001b[39m(\u001b[39minput\u001b[39;49m())\n\u001b[0;32m      8\u001b[0m     \u001b[39m#상하좌우(델타)\u001b[39;00m\n\u001b[0;32m      9\u001b[0m     \u001b[39m#(행의좌표, 열의좌표)\u001b[39;00m\n\u001b[0;32m     10\u001b[0m     \u001b[39m#(r,c)\u001b[39;00m\n\u001b[0;32m     11\u001b[0m     \u001b[39m# 0 = 상, 1 = 하, 2 = 좌, 3 = 우\u001b[39;00m\n\u001b[0;32m     12\u001b[0m     \u001b[39m# 상 (-1,0) 하(1,0), 좌(0,-1) 우(0,1)만큼 변한다\u001b[39;00m\n\u001b[0;32m     13\u001b[0m     dr \u001b[39m=\u001b[39m [\u001b[39m-\u001b[39m\u001b[39m1\u001b[39m, \u001b[39m1\u001b[39m, \u001b[39m0\u001b[39m, \u001b[39m0\u001b[39m]\n",
      "File \u001b[1;32m~\\AppData\\Roaming\\Python\\Python39\\site-packages\\ipykernel\\kernelbase.py:1202\u001b[0m, in \u001b[0;36mKernel.raw_input\u001b[1;34m(self, prompt)\u001b[0m\n\u001b[0;32m   1200\u001b[0m     msg \u001b[39m=\u001b[39m \u001b[39m\"\u001b[39m\u001b[39mraw_input was called, but this frontend does not support input requests.\u001b[39m\u001b[39m\"\u001b[39m\n\u001b[0;32m   1201\u001b[0m     \u001b[39mraise\u001b[39;00m StdinNotImplementedError(msg)\n\u001b[1;32m-> 1202\u001b[0m \u001b[39mreturn\u001b[39;00m \u001b[39mself\u001b[39;49m\u001b[39m.\u001b[39;49m_input_request(\n\u001b[0;32m   1203\u001b[0m     \u001b[39mstr\u001b[39;49m(prompt),\n\u001b[0;32m   1204\u001b[0m     \u001b[39mself\u001b[39;49m\u001b[39m.\u001b[39;49m_parent_ident[\u001b[39m\"\u001b[39;49m\u001b[39mshell\u001b[39;49m\u001b[39m\"\u001b[39;49m],\n\u001b[0;32m   1205\u001b[0m     \u001b[39mself\u001b[39;49m\u001b[39m.\u001b[39;49mget_parent(\u001b[39m\"\u001b[39;49m\u001b[39mshell\u001b[39;49m\u001b[39m\"\u001b[39;49m),\n\u001b[0;32m   1206\u001b[0m     password\u001b[39m=\u001b[39;49m\u001b[39mFalse\u001b[39;49;00m,\n\u001b[0;32m   1207\u001b[0m )\n",
      "File \u001b[1;32m~\\AppData\\Roaming\\Python\\Python39\\site-packages\\ipykernel\\kernelbase.py:1245\u001b[0m, in \u001b[0;36mKernel._input_request\u001b[1;34m(self, prompt, ident, parent, password)\u001b[0m\n\u001b[0;32m   1242\u001b[0m \u001b[39mexcept\u001b[39;00m \u001b[39mKeyboardInterrupt\u001b[39;00m:\n\u001b[0;32m   1243\u001b[0m     \u001b[39m# re-raise KeyboardInterrupt, to truncate traceback\u001b[39;00m\n\u001b[0;32m   1244\u001b[0m     msg \u001b[39m=\u001b[39m \u001b[39m\"\u001b[39m\u001b[39mInterrupted by user\u001b[39m\u001b[39m\"\u001b[39m\n\u001b[1;32m-> 1245\u001b[0m     \u001b[39mraise\u001b[39;00m \u001b[39mKeyboardInterrupt\u001b[39;00m(msg) \u001b[39mfrom\u001b[39;00m \u001b[39mNone\u001b[39;00m\n\u001b[0;32m   1246\u001b[0m \u001b[39mexcept\u001b[39;00m \u001b[39mException\u001b[39;00m:\n\u001b[0;32m   1247\u001b[0m     \u001b[39mself\u001b[39m\u001b[39m.\u001b[39mlog\u001b[39m.\u001b[39mwarning(\u001b[39m\"\u001b[39m\u001b[39mInvalid Message:\u001b[39m\u001b[39m\"\u001b[39m, exc_info\u001b[39m=\u001b[39m\u001b[39mTrue\u001b[39;00m)\n",
      "\u001b[1;31mKeyboardInterrupt\u001b[0m: Interrupted by user"
     ]
    }
   ],
   "source": [
    "#델타를 이용한 2차 배열 탐색 !! 중요 IM 필수\n",
    "\n",
    "T = int(input())\n",
    "\n",
    "for tc in range(1, T+1):\n",
    "    N = int(input())\n",
    "\n",
    "    #상하좌우(델타)\n",
    "    #(행의좌표, 열의좌표)\n",
    "    #(r,c)\n",
    "    # 0 = 상, 1 = 하, 2 = 좌, 3 = 우\n",
    "    # 상 (-1,0) 하(1,0), 좌(0,-1) 우(0,1)만큼 변한다\n",
    "    dr = [-1, 1, 0, 0]\n",
    "    dc = [0, 0, -1, 1]\n",
    "\n",
    "    #2차원 배열 입력받기\n",
    "    #list(....) => 한줄 입력받기(1차원 배열)\n",
    "    #for _ in range(N) => N번을 입력을 받아서 2차원 배열로 만든다\n",
    "    matrix = [list(map(int, input().split())) for _ in range(N)]\n",
    "\n",
    "    # 2차원 배열 탐색\n",
    "    # 행우선으로\n",
    "    for r in range(N):\n",
    "        for c in range(N):\n",
    "            print(f'현재위치 : ({r},{c}), 값 : {matrix[r][c]}')\n",
    "\n",
    "\n",
    "            now_diff_sum = 0\n",
    "\n",
    "\n",
    "            for d in range(4):\n",
    "                nr = r + dr[d]\n",
    "                nc = c + dc[d]\n",
    "\n",
    "                if 0 <= nr < N and 0 <= nc < N:\n",
    "                #차이구하기\n",
    "                #차이 = 현재 위치에 있는 값 - 움직인 위치에 있는 값\n",
    "                diff = matrix[r][c] - matrix[nr][nc]\n",
    "                #절댓값 abs 사용하지 않고 구하기\n",
    "                diff = -diff if diff < 0 else diff\n",
    "                \n",
    "                \n",
    "\n",
    "            \n"
   ]
  }
 ],
 "metadata": {
  "kernelspec": {
   "display_name": "Python 3",
   "language": "python",
   "name": "python3"
  },
  "language_info": {
   "codemirror_mode": {
    "name": "ipython",
    "version": 3
   },
   "file_extension": ".py",
   "mimetype": "text/x-python",
   "name": "python",
   "nbconvert_exporter": "python",
   "pygments_lexer": "ipython3",
   "version": "3.9.13"
  },
  "orig_nbformat": 4
 },
 "nbformat": 4,
 "nbformat_minor": 2
}
