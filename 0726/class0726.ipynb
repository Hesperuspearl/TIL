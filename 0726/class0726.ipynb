{
 "cells": [
  {
   "cell_type": "markdown",
   "metadata": {},
   "source": [
    "Classes\n",
    "\n",
    "절차 지향 프로그래밍 Procedural Programming\n",
    "함수가 데이터 인자받아 순서\n",
    "\n",
    "객체 지향 프로그래밍 Object Oriented Programming\n",
    "데이터(객체)가 메서드 \n"
   ]
  },
  {
   "cell_type": "code",
   "execution_count": 3,
   "metadata": {},
   "outputs": [
    {
     "name": "stdout",
     "output_type": "stream",
     "text": [
      "iu\n",
      "iu가 노래합니다.\n",
      "BTS가 노래합니다.\n",
      "red\n",
      "red\n"
     ]
    }
   ],
   "source": [
    "class Person:\n",
    "    #속성(변수)\n",
    "    blood_color = 'red'\n",
    "\n",
    "    #메서드\n",
    "    def __init__(self, name):  #개발자가 직접 호출 X\n",
    "        self.name = name\n",
    "    \n",
    "    def singing(self):\n",
    "        return f'{self.name}가 노래합니다.'\n",
    "\n",
    "#인스터스 생성    \n",
    "singer1 = Person('iu')\n",
    "singer2 = Person('BTS')\n",
    "\n",
    "print(singer1.name)\n",
    "\n",
    "#메서드 호출\n",
    "print(singer1.singing())\n",
    "print(singer2.singing())\n",
    "\n",
    "#속성(변수) 사용\n",
    "print(singer1.blood_color)\n",
    "print(singer2.blood_color)\n"
   ]
  },
  {
   "cell_type": "code",
   "execution_count": 6,
   "metadata": {},
   "outputs": [
    {
     "name": "stdout",
     "output_type": "stream",
     "text": [
      "unknown\n",
      "unknown\n",
      "Kim\n",
      "unknown\n",
      "unknown\n",
      "Kim\n",
      "korea\n"
     ]
    }
   ],
   "source": [
    "#Person 정의\n",
    "class Person:\n",
    "    name = 'unknown'\n",
    "\n",
    "    #인스턴스 메서드\n",
    "    def talk(self):\n",
    "        print(self.name)\n",
    "\n",
    "p1 = Person()\n",
    "p1.talk()\n",
    "#p2 인스턴스 변수 설정 전/후\n",
    "\n",
    "p2 = Person()\n",
    "p2.talk()\n",
    "\n",
    "p2.name = 'Kim'\n",
    "p2.talk()\n",
    "\n",
    "print(Person.name)\n",
    "print(p1.name)\n",
    "print(p2.name)\n",
    "\n",
    "p1.address = 'korea'\n",
    "print(p1.address)"
   ]
  },
  {
   "cell_type": "code",
   "execution_count": 7,
   "metadata": {},
   "outputs": [
    {
     "data": {
      "text/plain": [
       "'ABC'"
      ]
     },
     "execution_count": 7,
     "metadata": {},
     "output_type": "execute_result"
    }
   ],
   "source": [
    "#인스턴스.메서드()\n",
    "'abc'.upper()\n",
    "\n",
    "#클래스.메서드(인스턴스 자기자신)\n",
    "str.upper('abc')"
   ]
  },
  {
   "cell_type": "code",
   "execution_count": null,
   "metadata": {},
   "outputs": [],
   "source": [
    "class MyClass:\n",
    "\n",
    "    @classmethod    #데코레이터\n",
    "    def class_method(cls, arg1, ...):\n",
    "        pass"
   ]
  },
  {
   "cell_type": "code",
   "execution_count": null,
   "metadata": {},
   "outputs": [],
   "source": [
    "class MyClass:\n",
    "\n",
    "    @staticmethod\n",
    "    def static_method(arg1, ...):\n",
    "        pass"
   ]
  }
 ],
 "metadata": {
  "kernelspec": {
   "display_name": "Python 3",
   "language": "python",
   "name": "python3"
  },
  "language_info": {
   "codemirror_mode": {
    "name": "ipython",
    "version": 3
   },
   "file_extension": ".py",
   "mimetype": "text/x-python",
   "name": "python",
   "nbconvert_exporter": "python",
   "pygments_lexer": "ipython3",
   "version": "3.9.13"
  },
  "orig_nbformat": 4
 },
 "nbformat": 4,
 "nbformat_minor": 2
}
