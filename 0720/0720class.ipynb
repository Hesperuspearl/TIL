{
 "cells": [
  {
   "cell_type": "code",
   "execution_count": 1,
   "metadata": {},
   "outputs": [
    {
     "name": "stdout",
     "output_type": "stream",
     "text": [
      "[8, 12, 20, -16, 10]\n"
     ]
    }
   ],
   "source": [
    "# 조건문, 반복문\n",
    "# 반복문 - 인덱스로 리스트 순회\n",
    "\n",
    "numbers = [4, 6, 10, -8, 5]\n",
    "\n",
    "for i in range(len(numbers)):\n",
    "    numbers[i] = numbers[i] * 2\n",
    "\n",
    "print(numbers)"
   ]
  },
  {
   "cell_type": "code",
   "execution_count": null,
   "metadata": {},
   "outputs": [],
   "source": [
    "#중첩된 반복문\n",
    "outers = ['A', 'B']\n",
    "inners = ['c', 'd']\n",
    "\n",
    "for outer in outers:\n",
    "    for inner in inners:\n",
    "        print(outer, inner)"
   ]
  },
  {
   "cell_type": "code",
   "execution_count": null,
   "metadata": {},
   "outputs": [],
   "source": [
    "#중첩리스트 순회 *알고리즘 시험,IM"
   ]
  },
  {
   "cell_type": "markdown",
   "metadata": {},
   "source": [
    "List Comprehension"
   ]
  },
  {
   "cell_type": "code",
   "execution_count": null,
   "metadata": {},
   "outputs": [],
   "source": [
    "#1. 일반적 방법\n",
    "new_list = []\n",
    "for i in range(10):\n",
    "    if i % 2 == 1:\n",
    "        new_list.append(i)\n",
    "print(new_list)\n",
    "\n",
    "#2. List comprehension\n",
    "new_list_2 = [i for i in range(10) if i % 2 == 1]\n",
    "print(new_list_2)\n"
   ]
  },
  {
   "cell_type": "code",
   "execution_count": null,
   "metadata": {},
   "outputs": [],
   "source": [
    "#리스트를 생성하는 3가지 방법 비교\n",
    "#어떤게 제일 빨라요?\n",
    "\n",
    "numbers = ['1', '2', '3']\n",
    "\n",
    "# 1. for loop\n",
    "new_numbers = []\n",
    "for number in numbers:\n",
    "    new_numbers.append(int(i))\n",
    "print(new_numbers)\n",
    "\n",
    "# 2. map\n",
    "new_numbers_2 = list(map(int , numbers))\n",
    "print(new_numbers_2)\n",
    "\n",
    "#3. list comprehension\n",
    "new_numbers_3 = [int(number) for number in numbers]\n",
    "print(new_numbers_3)\n"
   ]
  },
  {
   "cell_type": "code",
   "execution_count": 1,
   "metadata": {},
   "outputs": [
    {
     "name": "stdout",
     "output_type": "stream",
     "text": [
      "minseok : 100 100\n",
      "gildong : 80 80\n",
      "jaedong : 70 70\n",
      "minseok : 100 100\n",
      "gildong : 80 80\n",
      "jaedong : 70 70\n",
      "==========\n",
      "100\n",
      "80\n",
      "70\n",
      "minseok : 100\n",
      "gildong : 80\n",
      "jaedong : 70\n"
     ]
    }
   ],
   "source": [
    "scores = {'minseok' : 100, 'gildong' : 80, 'jaedong' : 70}\n",
    "#dictonary get함수 매개변수에 해당되는 key의 value\n",
    "#items()함수 key, value 쌍으로 얻을 수 있음.\n",
    "#1. 기본적으로 key만 가져감\n",
    "for name in scores:\n",
    "    print(f'{name} : {scores[name]} {scores.get(name)}')\n",
    "\n",
    "#2. \n",
    "for name in scores.keys():\n",
    "    print(f'{name} : {scores[name]} {scores.get(name)}')\n",
    "\n",
    "print('==========')\n",
    "\n",
    "#3.\n",
    "for score in scores.values():\n",
    "    print(score)\n",
    "\n",
    "#4.\n",
    "for key, value in scores.items():\n",
    "    print(f'{key} : {value}')"
   ]
  }
 ],
 "metadata": {
  "kernelspec": {
   "display_name": "Python 3",
   "language": "python",
   "name": "python3"
  },
  "language_info": {
   "codemirror_mode": {
    "name": "ipython",
    "version": 3
   },
   "file_extension": ".py",
   "mimetype": "text/x-python",
   "name": "python",
   "nbconvert_exporter": "python",
   "pygments_lexer": "ipython3",
   "version": "3.9.13"
  },
  "orig_nbformat": 4
 },
 "nbformat": 4,
 "nbformat_minor": 2
}
