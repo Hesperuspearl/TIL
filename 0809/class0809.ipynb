{
 "cells": [
  {
   "cell_type": "code",
   "execution_count": null,
   "metadata": {},
   "outputs": [],
   "source": [
    "#Stack\n",
    "\n",
    "#스택의 pop 알고리즘\n",
    "\n",
    "def pop():\n",
    "    if len(s) == 0:\n",
    "        #underflow\n",
    "    return\n",
    "    else:\n",
    "        return s.pop()\n",
    "\n",
    "#[참고]\n",
    "def pop():\n",
    "    global top\n",
    "    if top == -1:\n",
    "        print('underflow')\n",
    "        return 0 \n",
    "    else:\n",
    "        top -= 1\n",
    "        return stack[top+1]\n",
    "print(pop())\n",
    "\n",
    "if top > -1:  #pop()\n",
    "    top -= 1\n",
    "    print(stack[top+1])\n",
    "\n"
   ]
  },
  {
   "cell_type": "code",
   "execution_count": 2,
   "metadata": {},
   "outputs": [
    {
     "name": "stdout",
     "output_type": "stream",
     "text": [
      "3\n",
      "2\n"
     ]
    }
   ],
   "source": [
    "stack = [0] * 10\n",
    "top = -1\n",
    "\n",
    "top += 1 # push(1)\n",
    "stack[top] = 1\n",
    "top += 1 # push(2)\n",
    "stack[top] = 2\n",
    "top += 1 # push(3)\n",
    "stack[top] = 3\n",
    "print(stack[top]) # pop()\n",
    "top -= 1\n",
    "top -= 1        # pop()\n",
    "print(stack[top+1])\n"
   ]
  },
  {
   "cell_type": "markdown",
   "metadata": {},
   "source": [
    "# 괄호조건, 검사\n",
    "\n",
    "1. 수식 끝, 괄호 남음. isEmpty() False\n",
    "2. 닫는 괄호, 스택이 비어있음\n",
    "3. 여는괄호  pop() 가 다른경우?\n",
    "\n",
    "# Function call\n",
    "함수구조, 재귀함수\n",
    "\n",
    "# 재귀호출"
   ]
  },
  {
   "cell_type": "code",
   "execution_count": null,
   "metadata": {},
   "outputs": [],
   "source": [
    "# 피보나치\n",
    "def fibo(n):\n",
    "    if n < 2:\n",
    "        return n\n",
    "    else:\n",
    "        return fibo(n-1) + fibo(n-2)\n",
    "    \n",
    "# Memoization - 피보나치\n",
    "# memo를 위한 배열을 할당하고, 모두 0으로 초기화\n",
    "# memo[0]을 0으로 memo[1]는 1로 초기화\n",
    "def fibo1(n):\n",
    "    global memo\n",
    "    if n >= 2 and memo[n] == 9:\n",
    "        memo[n] = (fibo(n-1) + fibo1(n-2))\n",
    "    return memo[n]\n",
    "\n",
    "memo = [0] * (n+1)\n",
    "memo[0] = 0\n",
    "memo[1] = 1"
   ]
  }
 ],
 "metadata": {
  "kernelspec": {
   "display_name": "Python 3",
   "language": "python",
   "name": "python3"
  },
  "language_info": {
   "codemirror_mode": {
    "name": "ipython",
    "version": 3
   },
   "file_extension": ".py",
   "mimetype": "text/x-python",
   "name": "python",
   "nbconvert_exporter": "python",
   "pygments_lexer": "ipython3",
   "version": "3.9.13"
  },
  "orig_nbformat": 4
 },
 "nbformat": 4,
 "nbformat_minor": 2
}
