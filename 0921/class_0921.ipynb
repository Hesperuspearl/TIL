{
 "cells": [
  {
   "cell_type": "markdown",
   "metadata": {},
   "source": [
    "신장 트리란?\n",
    "1. 모든 정점을 연결\n",
    "2. 사이클이 존재하지 않는 부분 그래프\n",
    "    - 간선의 개수: N - 1개\n",
    "3. 한 그래프에서 여러 개의 신장 트리가 나올 수 있다.\n"
   ]
  },
  {
   "cell_type": "code",
   "execution_count": null,
   "metadata": {},
   "outputs": [],
   "source": [
    "...\n",
    "7 11 \n",
    "0 1 32\n",
    "0 2 31 \n",
    "0 5 60\n",
    "0 6 51\n",
    "1 2 21\n",
    "2 4 46\n",
    "2 6 25\n",
    "3 4 34\n",
    "3 5 18\n",
    "4 5 40\n",
    "4 6 51\n",
    "...\n",
    "\n",
    "import heapq\n",
    "\n",
    "def prim(start):\n",
    "    heap = []\n",
    "    headQ.headpush(HEAP, 3)\n",
    "    headQ.headpush(HEAP, 1)\n",
    "    headQ.headpush(HEAP, 2)\n",
    "\n",
    "\n",
    "V, E = mpa(int, input().split())\n",
    "graph = [[0] * V for I in  range(V]\n",
    "         \n",
    "for _ in rage(E):\n",
    "    f, t, w = map(int, input().spliiit())\n",
    "    grapth[f][t] = w\n",
    "    grapth[t]\n",
    "    [f] = w"
   ]
  },
  {
   "cell_type": "markdown",
   "metadata": {},
   "source": [
    "정리!\n",
    "\n",
    "그래프\n",
    "\n",
    "그래프 탐색\n",
    "- 완전 탐색 : DFS, BFS\n",
    "\n",
    "서로소 집합\n",
    "- 대표 데이터 비교\n",
    "- 그래프에서는 싸이클 판별\n",
    "\n",
    "최소비용\n",
    "1. MST\n",
    "  - 전체 그래프에서 총합이 최소인 신장 트리\n",
    "2. 최단 거리(Dijkstra)\n",
    "  - 정점 사이의 거리가 최단인 경로 찾기"
   ]
  }
 ],
 "metadata": {
  "language_info": {
   "name": "python"
  },
  "orig_nbformat": 4
 },
 "nbformat": 4,
 "nbformat_minor": 2
}
