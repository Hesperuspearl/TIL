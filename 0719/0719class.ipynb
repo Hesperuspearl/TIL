{
 "cells": [
  {
   "cell_type": "code",
   "execution_count": 1,
   "metadata": {},
   "outputs": [
    {
     "name": "stdout",
     "output_type": "stream",
     "text": [
      "1\n"
     ]
    }
   ],
   "source": [
    "#내장함수\n",
    "result = abs(-1)\n",
    "print(result)"
   ]
  },
  {
   "cell_type": "code",
   "execution_count": 4,
   "metadata": {},
   "outputs": [],
   "source": [
    "def make_sum(pram1, pram2):\n",
    "    print pram1 + pram2"
   ]
  },
  {
   "cell_type": "code",
   "execution_count": 5,
   "metadata": {},
   "outputs": [
    {
     "name": "stdout",
     "output_type": "stream",
     "text": [
      "None\n"
     ]
    }
   ],
   "source": [
    "# 함수 return 만나면 반환하고 끝. 아래 코드는 의미없다.\n",
    "# 반환값이 없는 함수는 None. return 없어서.\n",
    "def greet(name):\n",
    "    message = 'Hello, ' + name\n",
    "    \n",
    "\n",
    "result = greet('Alice')\n",
    "print(result)"
   ]
  },
  {
   "cell_type": "markdown",
   "metadata": {},
   "source": [
    "인자의 종류\n",
    "위치인자\n",
    "기본인자값\n",
    "키워드 인자\n",
    "임의의 인자 목록 Arbitrary Argument Lists\n",
    "권장 작성순서 : 위치 -> 기본 -> 가변 -> 키워드 -> 가변 키워드(절대적 규칙x)"
   ]
  },
  {
   "cell_type": "code",
   "execution_count": 7,
   "metadata": {},
   "outputs": [
    {
     "name": "stdout",
     "output_type": "stream",
     "text": [
      "안녕하세요, Michael님! 24살이시군요.\n"
     ]
    }
   ],
   "source": [
    "#Keyworld Arguments\n",
    "def greet(name, age):\n",
    "    print(f'안녕하세요, {name}님! {age}살이시군요.')\n",
    "greet(age=24, name='Michael')"
   ]
  },
  {
   "cell_type": "code",
   "execution_count": 8,
   "metadata": {},
   "outputs": [
    {
     "name": "stdout",
     "output_type": "stream",
     "text": [
      "{'name': 'Eve', 'age': 30, 'nation': 'USA'}\n"
     ]
    }
   ],
   "source": [
    "#Arbitrary Keyword\n",
    "def print_info(**kwargs):\n",
    "    print(kwargs)\n",
    "\n",
    "print_info(name = 'Eve', age = 30, nation = 'USA')\n"
   ]
  },
  {
   "cell_type": "code",
   "execution_count": 13,
   "metadata": {},
   "outputs": [
    {
     "name": "stdout",
     "output_type": "stream",
     "text": [
      "local 20\n"
     ]
    }
   ],
   "source": [
    "def func():\n",
    "    num = 20\n",
    "    print('local', num)\n",
    "\n",
    "func()"
   ]
  },
  {
   "cell_type": "markdown",
   "metadata": {},
   "source": [
    "#함수변수로 안되는것. #LEGB Rule시험!\n",
    "1. Local scope\n",
    "2. Enclosed scope\n",
    "3. Global scope\n",
    "4. Built-in scope"
   ]
  },
  {
   "cell_type": "code",
   "execution_count": 45,
   "metadata": {},
   "outputs": [
    {
     "name": "stdout",
     "output_type": "stream",
     "text": [
      "10 2 500\n",
      "10 2 3\n",
      "1 2\n"
     ]
    }
   ],
   "source": [
    "a = 1\n",
    "b = 2\n",
    "\n",
    "def enclosed():\n",
    "    a = 10\n",
    "    c = 3\n",
    "\n",
    "    def local(c):\n",
    "        print(a, b, c)\n",
    "\n",
    "    local(500)\n",
    "    print(a, b, c)\n",
    "\n",
    "enclosed()\n",
    "print(a, b)"
   ]
  },
  {
   "cell_type": "markdown",
   "metadata": {},
   "source": [
    "재귀함수\n",
    "ex)팩토리얼 함수\n",
    "\n",
    "유요한 내장함수\n",
    "map, zip, lambda함수\n"
   ]
  },
  {
   "cell_type": "code",
   "execution_count": 34,
   "metadata": {},
   "outputs": [
    {
     "name": "stdout",
     "output_type": "stream",
     "text": [
      "<map object at 0x0000023AAEEE81C0>\n",
      "['1', '2', '3']\n",
      "['1']\n",
      "['1', '2']\n",
      "['1', '2', '3']\n"
     ]
    }
   ],
   "source": [
    "numbers = [1, 2, 3]\n",
    "result = map(str, numbers)\n",
    "\n",
    "print(result)\n",
    "print(list(result))\n",
    "\n",
    "result = []\n",
    "for number in numbers:\n",
    "    result.append(str(number))\n",
    "\n",
    "    print(result)"
   ]
  },
  {
   "cell_type": "code",
   "execution_count": 47,
   "metadata": {},
   "outputs": [
    {
     "name": "stdout",
     "output_type": "stream",
     "text": [
      "[2, 4, 6, 8, 10]\n"
     ]
    }
   ],
   "source": [
    "# map + lambda\n",
    "numbers = [1, 2, 3, 4, 5]\n",
    "result = list(map(lambda x: x*2, numbers))\n",
    "print(result)\n",
    "\n",
    "#일회성으로 쓸 때 유용.\n",
    "#명시적인 함수를 지향, 너무 lambda남용x"
   ]
  },
  {
   "cell_type": "markdown",
   "metadata": {},
   "source": [
    "Packing"
   ]
  },
  {
   "cell_type": "code",
   "execution_count": 1,
   "metadata": {},
   "outputs": [
    {
     "name": "stdout",
     "output_type": "stream",
     "text": [
      "1\n",
      "[2, 3, 4]\n",
      "5\n"
     ]
    }
   ],
   "source": [
    "numbers = [1, 2, 3, 4, 5]\n",
    "a, *b, c = numbers\n",
    "print(a)\n",
    "print(b)\n",
    "print(c)"
   ]
  },
  {
   "cell_type": "markdown",
   "metadata": {},
   "source": [
    "Module"
   ]
  },
  {
   "cell_type": "code",
   "execution_count": 2,
   "metadata": {},
   "outputs": [
    {
     "name": "stdout",
     "output_type": "stream",
     "text": [
      "출력하는 함수\n"
     ]
    }
   ],
   "source": [
    "print(\"출력하는 함수\")\n",
    "print = '문자열'\n",
    "print = __builtins__.print #프린트변수취소하고 원래함수로 복구"
   ]
  },
  {
   "cell_type": "code",
   "execution_count": 3,
   "metadata": {},
   "outputs": [
    {
     "name": "stdout",
     "output_type": "stream",
     "text": [
      "[1, 3, 5]\n"
     ]
    }
   ],
   "source": [
    "#filter(function, iterable)\n",
    "#function의 결과는 True or False\n",
    "#결과가 True인 것들만 골라서 반환\n",
    "#리스트의 홀수만 걸러보자\n",
    "\n",
    "def odd(n):\n",
    "    return n % 2\n",
    "\n",
    "numbers = [1, 2, 3, 4, 5]\n",
    "new_numbers = list(filter(odd, numbers))\n",
    "#new_numbers = list(filter(lambda n: n % 2, numbers))\n",
    "\n",
    "print(new_numbers)"
   ]
  }
 ],
 "metadata": {
  "kernelspec": {
   "display_name": "Python 3",
   "language": "python",
   "name": "python3"
  },
  "language_info": {
   "codemirror_mode": {
    "name": "ipython",
    "version": 3
   },
   "file_extension": ".py",
   "mimetype": "text/x-python",
   "name": "python",
   "nbconvert_exporter": "python",
   "pygments_lexer": "ipython3",
   "version": "3.9.13"
  },
  "orig_nbformat": 4
 },
 "nbformat": 4,
 "nbformat_minor": 2
}
