{
 "cells": [
  {
   "cell_type": "markdown",
   "id": "ca04f386",
   "metadata": {},
   "source": [
    "##  'M' : 쉘 하나가 마크다운 모드로 변경\n",
    "## 'y' : 다시 코드모드로 변경\n",
    "## 'a' : 커서 기준 위에 쉘 하나 추가\n",
    "## 'b' : 커서 기준 아래에 쉘 하나 추가\n",
    "## 'd' : 쉘 삭제\n",
    "## 'shift + enter' : 실행 후 커서를 아래로 이동\n",
    "## 'ctrl + enter' : 실행 후 커서를 제자리에\n",
    "# ㅣn 표시, 코드모드\n"
   ]
  },
  {
   "cell_type": "code",
   "execution_count": 29,
   "id": "44f4ca86",
   "metadata": {},
   "outputs": [],
   "source": [
    "API_key = 'b611962994006a012a13e82b1be672eb'"
   ]
  },
  {
   "cell_type": "code",
   "execution_count": 37,
   "id": "2512a29e",
   "metadata": {},
   "outputs": [],
   "source": [
    "# lat = 37.56\n",
    "# lon = 126.97\n",
    "city_name = 'Seoul,KR'\n",
    "url = f'https://api.openweathermap.org/data/2.5/weather?q={city_name}&appid={API_key}'\n"
   ]
  },
  {
   "cell_type": "code",
   "execution_count": 38,
   "id": "7198acde",
   "metadata": {},
   "outputs": [
    {
     "name": "stdout",
     "output_type": "stream",
     "text": [
      "<class 'dict'>\n"
     ]
    },
    {
     "data": {
      "text/plain": [
       "303.36"
      ]
     },
     "execution_count": 38,
     "metadata": {},
     "output_type": "execute_result"
    }
   ],
   "source": [
    "import requests\n",
    "#API 요청 보내기\n",
    "response = requests.get(url).json()\n",
    "# temp = response['main']['temp']\n",
    "# #섭씨 온도\n",
    "# temp -= 273.15\n",
    "# temp\n",
    "print(type(response))\n",
    "#온도만 출력\n",
    "response['main']['temp']"
   ]
  },
  {
   "cell_type": "code",
   "execution_count": 31,
   "id": "017a0413",
   "metadata": {},
   "outputs": [
    {
     "data": {
      "text/plain": [
       "{'coord': {'lon': 126.97, 'lat': 37.56},\n",
       " 'weather': [{'id': 721,\n",
       "   'main': 'Haze',\n",
       "   'description': 'haze',\n",
       "   'icon': '50d'}],\n",
       " 'base': 'stations',\n",
       " 'main': {'temp': 303.49,\n",
       "  'feels_like': 308.02,\n",
       "  'temp_min': 302.93,\n",
       "  'temp_max': 304.03,\n",
       "  'pressure': 1012,\n",
       "  'humidity': 66},\n",
       " 'visibility': 6000,\n",
       " 'wind': {'speed': 1.54, 'deg': 170},\n",
       " 'clouds': {'all': 20},\n",
       " 'dt': 1689903662,\n",
       " 'sys': {'type': 1,\n",
       "  'id': 8105,\n",
       "  'country': 'KR',\n",
       "  'sunrise': 1689884785,\n",
       "  'sunset': 1689936611},\n",
       " 'timezone': 32400,\n",
       " 'id': 1835848,\n",
       " 'name': 'Seoul',\n",
       " 'cod': 200}"
      ]
     },
     "execution_count": 31,
     "metadata": {},
     "output_type": "execute_result"
    }
   ],
   "source": [
    "r"
   ]
  },
  {
   "cell_type": "code",
   "execution_count": null,
   "id": "234e2c12",
   "metadata": {},
   "outputs": [],
   "source": []
  }
 ],
 "metadata": {
  "kernelspec": {
   "display_name": "Python 3 (ipykernel)",
   "language": "python",
   "name": "python3"
  },
  "language_info": {
   "codemirror_mode": {
    "name": "ipython",
    "version": 3
   },
   "file_extension": ".py",
   "mimetype": "text/x-python",
   "name": "python",
   "nbconvert_exporter": "python",
   "pygments_lexer": "ipython3",
   "version": "3.9.13"
  },
  "toc": {
   "base_numbering": 1,
   "nav_menu": {},
   "number_sections": true,
   "sideBar": true,
   "skip_h1_title": false,
   "title_cell": "Table of Contents",
   "title_sidebar": "Contents",
   "toc_cell": false,
   "toc_position": {},
   "toc_section_display": true,
   "toc_window_display": false
  }
 },
 "nbformat": 4,
 "nbformat_minor": 5
}
